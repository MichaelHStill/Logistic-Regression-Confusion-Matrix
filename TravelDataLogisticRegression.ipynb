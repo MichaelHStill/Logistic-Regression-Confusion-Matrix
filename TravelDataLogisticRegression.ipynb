{
  "nbformat": 4,
  "nbformat_minor": 0,
  "metadata": {
    "colab": {
      "provenance": []
    },
    "kernelspec": {
      "name": "python3",
      "display_name": "Python 3"
    },
    "language_info": {
      "name": "python"
    }
  },
  "cells": [
    {
      "cell_type": "code",
      "source": [
        "import pandas as pd\n",
        "from sklearn.model_selection import train_test_split\n",
        "from sklearn.linear_model import LogisticRegression\n",
        "from sklearn.metrics import classification_report, accuracy_score, confusion_matrix\n",
        "import matplotlib.pyplot as plt\n",
        "import seaborn as sns\n",
        "\n",
        "#Load dataset\n",
        "file_path = '/content/TravelInsurancePrediction.csv'\n",
        "data = pd.read_csv(file_path)\n",
        "\n",
        "#Select predictors (Age, AnnualIncome) and the target (TravelInsurance)\n",
        "X = data[['Age', 'AnnualIncome']]\n",
        "y = data['TravelInsurance']\n",
        "\n",
        "#Split dataset into training and testing sets\n",
        "X_train, X_test, y_train, y_test = train_test_split(X, y, test_size=0.3, random_state=42)\n",
        "\n",
        "#Create and train the logistic regression model\n",
        "logistic_model = LogisticRegression(max_iter=1000)\n",
        "logistic_model.fit(X_train, y_train)\n",
        "\n",
        "#Make predictions\n",
        "y_pred = logistic_model.predict(X_test)\n",
        "\n",
        "#Evaluate model\n",
        "print(\"Classification Report:\")\n",
        "print(classification_report(y_test, y_pred))\n",
        "\n",
        "print(\"\\nAccuracy Score:\")\n",
        "print(accuracy_score(y_test, y_pred))\n",
        "\n",
        "#Confusion Matrix\n",
        "cm = confusion_matrix(y_test, y_pred)\n",
        "\n",
        "#Plot confusion matrix\n",
        "plt.figure(figsize=(8, 6))\n",
        "sns.heatmap(cm, annot=True, fmt='d', cmap='Blues', xticklabels=[\"No\", \"Yes\"], yticklabels=[\"No\", \"Yes\"])\n"
      ],
      "metadata": {
        "colab": {
          "base_uri": "https://localhost:8080/",
          "height": 765
        },
        "id": "zXkmOHLRRWDh",
        "outputId": "df418df4-c3e6-4c96-c3f6-c34356a74796"
      },
      "execution_count": 5,
      "outputs": [
        {
          "output_type": "stream",
          "name": "stdout",
          "text": [
            "Classification Report:\n",
            "              precision    recall  f1-score   support\n",
            "\n",
            "           0       0.75      0.92      0.83       375\n",
            "           1       0.79      0.49      0.61       222\n",
            "\n",
            "    accuracy                           0.76       597\n",
            "   macro avg       0.77      0.71      0.72       597\n",
            "weighted avg       0.77      0.76      0.75       597\n",
            "\n",
            "\n",
            "Accuracy Score:\n",
            "0.7621440536013401\n"
          ]
        },
        {
          "output_type": "execute_result",
          "data": {
            "text/plain": [
              "<Axes: >"
            ]
          },
          "metadata": {},
          "execution_count": 5
        },
        {
          "output_type": "display_data",
          "data": {
            "text/plain": [
              "<Figure size 800x600 with 2 Axes>"
            ],
            "image/png": "[encoded data removed]"
          },
          "metadata": {}
        }
      ]
    },
    {
      "cell_type": "markdown",
      "source": [
        "X-Axis = Predicted Values\n",
        "\n",
        "Y-Axis = Actual Values"
      ],
      "metadata": {
        "id": "amTDfqI4SwOL"
      }
    },
    {
      "cell_type": "markdown",
      "source": [
        "Confusion Matrix above, 79% success rate predicting YES, 75% success rate predicting NO\n"
      ],
      "metadata": {
        "id": "l-2Cvh-XSXEc"
      }
    },
    {
      "cell_type": "markdown",
      "source": [
        "Age and Annual Income features have some predictive power, but are not sufficient to reliably predict buyers"
      ],
      "metadata": {
        "id": "16_XClpGVg3t"
      }
    }
  ]
}